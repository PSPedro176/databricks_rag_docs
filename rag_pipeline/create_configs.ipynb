{
 "cells": [
  {
   "cell_type": "code",
   "execution_count": 0,
   "metadata": {
    "application/vnd.databricks.v1+cell": {
     "cellMetadata": {
      "byteLimit": 2048000,
      "rowLimit": 10000
     },
     "inputWidgets": {},
     "nuid": "f142702c-f87f-4fe5-8790-b506d29cb41a",
     "showTitle": true,
     "tableResultSettingsMap": {},
     "title": "Packages"
    }
   },
   "outputs": [],
   "source": [
    "import os\n",
    "import yaml"
   ]
  },
  {
   "cell_type": "code",
   "execution_count": 0,
   "metadata": {
    "application/vnd.databricks.v1+cell": {
     "cellMetadata": {
      "byteLimit": 2048000,
      "rowLimit": 10000
     },
     "inputWidgets": {},
     "nuid": "387de50a-d1f2-4d03-9b5d-ccc754e15f14",
     "showTitle": true,
     "tableResultSettingsMap": {},
     "title": "Names"
    }
   },
   "outputs": [],
   "source": [
    "CATALOG = \"your_catalog\"\n",
    "SCHEMA = \"rag_chatbot\"\n",
    "\n",
    "TABLE_NAME = f\"{CATALOG}.{SCHEMA}.databricks_documentation\"\n",
    "MODEL_NAME = f\"{CATALOG}.{SCHEMA}.databricks_docs_rag_chatbot\"\n",
    "\n",
    "VECTOR_SEARCH_ENDPOINT_NAME = \"rag_chatbot_endpoint\"\n",
    "VS_INDEX_FULLNAME = f\"{TABLE_NAME}_vs_index\"\n",
    "\n",
    "NAMES = {\n",
    "    \"table_name\": TABLE_NAME,\n",
    "    \"model_name\": MODEL_NAME,\n",
    "    \"vector_search_endpoint_name\": VECTOR_SEARCH_ENDPOINT_NAME,\n",
    "    \"vs_index_fullname\": VS_INDEX_FULLNAME\n",
    "}"
   ]
  },
  {
   "cell_type": "code",
   "execution_count": 0,
   "metadata": {
    "application/vnd.databricks.v1+cell": {
     "cellMetadata": {
      "byteLimit": 2048000,
      "rowLimit": 10000
     },
     "inputWidgets": {},
     "nuid": "3cc07f90-1808-4401-86e4-5ab52654f877",
     "showTitle": true,
     "tableResultSettingsMap": {},
     "title": "Chain config"
    }
   },
   "outputs": [],
   "source": [
    "CHAIN_CONFIG = {\n",
    "    \"databricks_resources\": {\n",
    "        \"llm_endpoint_name\": \"databricks-meta-llama-3-3-70b-instruct\",\n",
    "        \"vector_search_endpoint_name\": VECTOR_SEARCH_ENDPOINT_NAME,\n",
    "    },\n",
    "    \"input_example\": {\n",
    "        \"messages\": [{\"content\": \"H?\", \"role\": \"user\"}]\n",
    "    },\n",
    "    \"llm_config\": {\n",
    "        \"llm_parameters\": {\"max_tokens\": 1500, \"temperature\": 0.01},\n",
    "        \"llm_prompt_template\": \"You are a trusted AI assistant that helps answer questions based only on the provided information. If you do not know the answer to a question, you truthfully say you do not know. Here is the history of the current conversation you are having with your user: {chat_history}. And here is some context which may or may not help you answer the following question: {context}.  Answer directly, do not repeat the question, do not start with something like: the answer to the question, do not add AI in front of your answer, do not say: here is the answer, do not mention the context or the question. Based on this context, answer this question: {question}\",\n",
    "        \"llm_prompt_template_variables\": [\"context\", \"chat_history\", \"question\"],\n",
    "    },\n",
    "    \"retriever_config\": {\n",
    "        \"chunk_template\": \"Passage: {chunk_text}\\n\",\n",
    "        \"data_pipeline_tag\": \"poc\",\n",
    "        \"parameters\": {\"k\": 5}, # , \"query_type\": \"ann\"\n",
    "        \"schema\": {\"chunk_text\": \"content\", \"document_uri\": \"url\", \"primary_key\": \"id\"},\n",
    "        \"vector_search_index\": VS_INDEX_FULLNAME,\n",
    "    },\n",
    "}"
   ]
  },
  {
   "cell_type": "code",
   "execution_count": 0,
   "metadata": {
    "application/vnd.databricks.v1+cell": {
     "cellMetadata": {
      "byteLimit": 2048000,
      "rowLimit": 10000
     },
     "inputWidgets": {},
     "nuid": "69ab772f-b639-47c3-b29f-be4d8f6a84f6",
     "showTitle": true,
     "tableResultSettingsMap": {},
     "title": "Saving yaml files"
    }
   },
   "outputs": [],
   "source": [
    "with open('rag_chain_config.yaml', 'w') as f:\n",
    "    yaml.dump(CHAIN_CONFIG, f)\n",
    "with open('names.yaml', 'w') as f:\n",
    "    yaml.dump(NAMES, f)"
   ]
  }
 ],
 "metadata": {
  "application/vnd.databricks.v1+notebook": {
   "computePreferences": null,
   "dashboards": [],
   "environmentMetadata": {
    "base_environment": "",
    "environment_version": "2"
   },
   "inputWidgetPreferences": null,
   "language": "python",
   "notebookMetadata": {
    "mostRecentlyExecutedCommandWithImplicitDF": {
     "commandId": 1055378587397900,
     "dataframes": [
      "_sqldf"
     ]
    },
    "pythonIndentUnit": 2
   },
   "notebookName": "create_configs",
   "widgets": {}
  },
  "language_info": {
   "name": "python"
  }
 },
 "nbformat": 4,
 "nbformat_minor": 0
}
