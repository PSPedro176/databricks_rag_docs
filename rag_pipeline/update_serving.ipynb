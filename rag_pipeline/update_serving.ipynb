{
 "cells": [
  {
   "cell_type": "code",
   "execution_count": 0,
   "metadata": {
    "application/vnd.databricks.v1+cell": {
     "cellMetadata": {
      "byteLimit": 2048000,
      "rowLimit": 10000
     },
     "inputWidgets": {},
     "nuid": "88db4828-2400-4c75-b706-249622d3de41",
     "showTitle": false,
     "tableResultSettingsMap": {},
     "title": ""
    }
   },
   "outputs": [],
   "source": [
    "%pip install -r requirements.txt # Original had -U\n",
    "dbutils.library.restartPython()"
   ]
  },
  {
   "cell_type": "code",
   "execution_count": 0,
   "metadata": {
    "application/vnd.databricks.v1+cell": {
     "cellMetadata": {
      "byteLimit": 2048000,
      "rowLimit": 10000
     },
     "inputWidgets": {},
     "nuid": "4f372f66-aeff-47a0-b10a-460ba284a3bc",
     "showTitle": false,
     "tableResultSettingsMap": {},
     "title": ""
    }
   },
   "outputs": [],
   "source": [
    "import yaml\n",
    "import json\n",
    "import requests\n",
    "\n",
    "from databricks import agents\n",
    "from databricks.vector_search.client import VectorSearchClient\n",
    "\n",
    "with open(\"names.yaml\", \"r\") as file:\n",
    "    names = yaml.safe_load(file)\n",
    "with open(\"rag_chain_config.yaml\", \"r\") as file:\n",
    "    config = yaml.safe_load(file)\n",
    "\n",
    "VECTOR_SEARCH_ENDPOINT_NAME = names.get(\"vector_search_endpoint_name\")\n",
    "MODEL_NAME = names.get(\"model_name\")\n",
    "EXAMPLE = config.get(\"input_example\")"
   ]
  },
  {
   "cell_type": "code",
   "execution_count": 0,
   "metadata": {
    "application/vnd.databricks.v1+cell": {
     "cellMetadata": {},
     "inputWidgets": {},
     "nuid": "f74849a4-3058-4bd5-87d3-cf0fcf87f211",
     "showTitle": true,
     "tableResultSettingsMap": {},
     "title": "Enabling/disabling Vector Search endpoint"
    }
   },
   "outputs": [],
   "source": [
    "vsc = VectorSearchClient()\n",
    "endpoint_status = vsc.get_endpoint(name=VECTOR_SEARCH_ENDPOINT_NAME)['endpoint_status']['state']\n",
    "\n",
    "if endpoint_status == 'ONLINE':\n",
    "  print(f\"Stopping endpoint {VECTOR_SEARCH_ENDPOINT_NAME}.\")\n",
    "  vsc.stop_endpoint(name=VECTOR_SEARCH_ENDPOINT_NAME)\n",
    "else:\n",
    "  print(f\"Endpoint: {VECTOR_SEARCH_ENDPOINT_NAME} {endpoint_status}. Starting endpoint.\")\n",
    "  vsc.start_endpoint(name=VECTOR_SEARCH_ENDPOINT_NAME)"
   ]
  },
  {
   "cell_type": "code",
   "execution_count": 0,
   "metadata": {
    "application/vnd.databricks.v1+cell": {
     "cellMetadata": {
      "byteLimit": 2048000,
      "rowLimit": 10000
     },
     "inputWidgets": {},
     "nuid": "1049e128-5a5f-432b-a0bb-2a5088f6c35b",
     "showTitle": true,
     "tableResultSettingsMap": {},
     "title": "Forcing endpoint scaling"
    }
   },
   "outputs": [],
   "source": [
    "auth_token = 'IINSERT_TOKEN'\n",
    "headers = {\"Authorization\": f\"Bearer {auth_token}\"}\n",
    "\n",
    "model_endpoint = agents.get_deployments(MODEL_NAME)[-1].query_endpoint\n",
    "model_query = requests.post(model_endpoint, json=EXAMPLE, headers=headers)\n",
    "if model_query.ok:\n",
    "  print('Sent request to model endpoint')\n",
    "else:\n",
    "  print(f'Response not received. Code {model_query.status_code}')"
   ]
  }
 ],
 "metadata": {
  "application/vnd.databricks.v1+notebook": {
   "computePreferences": null,
   "dashboards": [],
   "environmentMetadata": {
    "base_environment": "",
    "environment_version": "2"
   },
   "inputWidgetPreferences": null,
   "language": "python",
   "notebookMetadata": {
    "pythonIndentUnit": 2
   },
   "notebookName": "update_serving",
   "widgets": {}
  },
  "language_info": {
   "name": "python"
  }
 },
 "nbformat": 4,
 "nbformat_minor": 0
}
