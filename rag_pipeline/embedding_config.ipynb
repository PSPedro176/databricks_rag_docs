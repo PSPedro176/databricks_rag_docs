{
 "cells": [
  {
   "cell_type": "code",
   "execution_count": 0,
   "metadata": {
    "application/vnd.databricks.v1+cell": {
     "cellMetadata": {
      "byteLimit": 2048000,
      "rowLimit": 10000
     },
     "inputWidgets": {},
     "nuid": "5bde016f-3c82-48fb-9a2e-dbc1ceab3616",
     "showTitle": false,
     "tableResultSettingsMap": {},
     "title": ""
    }
   },
   "outputs": [],
   "source": [
    "%pip install -r requirements.txt\n",
    "dbutils.library.restartPython()"
   ]
  },
  {
   "cell_type": "code",
   "execution_count": 0,
   "metadata": {
    "application/vnd.databricks.v1+cell": {
     "cellMetadata": {
      "byteLimit": 2048000,
      "rowLimit": 10000
     },
     "inputWidgets": {},
     "nuid": "3cc07f90-1808-4401-86e4-5ab52654f877",
     "showTitle": true,
     "tableResultSettingsMap": {},
     "title": "Variables and packages"
    }
   },
   "outputs": [],
   "source": [
    "import yaml\n",
    "\n",
    "from databricks.vector_search.client import VectorSearchClient\n",
    "from time import sleep\n",
    "\n",
    "with open(\"names.yaml\", \"r\") as file:\n",
    "    names = yaml.safe_load(file)\n",
    "\n",
    "TABLE_NAME = names.get(\"table_name\")\n",
    "VECTOR_SEARCH_ENDPOINT_NAME = names.get(\"vector_search_endpoint_name\")\n",
    "VS_INDEX_FULLNAME = names.get(\"vs_index_fullname\")"
   ]
  },
  {
   "cell_type": "markdown",
   "metadata": {
    "application/vnd.databricks.v1+cell": {
     "cellMetadata": {
      "byteLimit": 2048000,
      "rowLimit": 10000
     },
     "inputWidgets": {},
     "nuid": "c8c58708-2dbd-454b-838a-39f37126c6f5",
     "showTitle": false,
     "tableResultSettingsMap": {},
     "title": ""
    }
   },
   "source": [
    "## Creating VectorSearch endpoint and index"
   ]
  },
  {
   "cell_type": "code",
   "execution_count": 0,
   "metadata": {
    "application/vnd.databricks.v1+cell": {
     "cellMetadata": {
      "byteLimit": 2048000,
      "rowLimit": 10000
     },
     "inputWidgets": {},
     "nuid": "23053976-9fbf-45fe-bba2-2a0cff839c28",
     "showTitle": true,
     "tableResultSettingsMap": {},
     "title": "Checking VectorSearch endpoint"
    }
   },
   "outputs": [],
   "source": [
    "vsc = VectorSearchClient(disable_notice=True)\n",
    "#vsc.list_endpoints().get('endpoints', [])\n",
    "try:\n",
    "  vsc.get_endpoint(VECTOR_SEARCH_ENDPOINT_NAME)\n",
    "  print('Endpoint already created')\n",
    "except:\n",
    "  print('Creating new endpoint and waiting to be ready')\n",
    "  vsc.create_endpoint_and_wait(name=VECTOR_SEARCH_ENDPOINT_NAME, endpoint_type=\"STANDARD\")\n",
    "  print(f'Created new endopoint {VECTOR_SEARCH_ENDPOINT_NAME}')"
   ]
  },
  {
   "cell_type": "code",
   "execution_count": 0,
   "metadata": {
    "application/vnd.databricks.v1+cell": {
     "cellMetadata": {
      "byteLimit": 2048000,
      "rowLimit": 10000
     },
     "inputWidgets": {},
     "nuid": "3f326fed-818a-43a8-b1e4-5eb045e9a321",
     "showTitle": true,
     "tableResultSettingsMap": {},
     "title": "Checking VectorSearch index"
    }
   },
   "outputs": [],
   "source": [
    "try:\n",
    "  vsc.get_index(VECTOR_SEARCH_ENDPOINT_NAME, VS_INDEX_FULLNAME).describe()\n",
    "  print(f\"Index {VS_INDEX_FULLNAME} on table {TABLE_NAME} is already created\")\n",
    "except:\n",
    "  vsc.create_delta_sync_index(\n",
    "    endpoint_name=VECTOR_SEARCH_ENDPOINT_NAME,\n",
    "    index_name=VS_INDEX_FULLNAME,\n",
    "    source_table_name=TABLE_NAME,\n",
    "    pipeline_type=\"TRIGGERED\",\n",
    "    primary_key=\"id\",\n",
    "    embedding_source_column='content',\n",
    "    embedding_model_endpoint_name='databricks-gte-large-en'\n",
    "  )\n",
    "  print(f\"Creating index {VS_INDEX_FULLNAME} on endpoint {VECTOR_SEARCH_ENDPOINT_NAME}...\")"
   ]
  },
  {
   "cell_type": "code",
   "execution_count": 0,
   "metadata": {
    "application/vnd.databricks.v1+cell": {
     "cellMetadata": {},
     "inputWidgets": {},
     "nuid": "e46578e0-de2c-4e0c-8db4-849ea3ddab1d",
     "showTitle": true,
     "tableResultSettingsMap": {},
     "title": "Sync to index"
    }
   },
   "outputs": [],
   "source": [
    "for i in range(20):\n",
    "  index_ready = vsc.get_index(VECTOR_SEARCH_ENDPOINT_NAME, VS_INDEX_FULLNAME).describe()['status']['ready']\n",
    "  if index_ready:\n",
    "    vsc.get_index(VECTOR_SEARCH_ENDPOINT_NAME, VS_INDEX_FULLNAME).sync()\n",
    "    print(f\"Index {VS_INDEX_FULLNAME} on table {TABLE_NAME} is ready\")\n",
    "    break\n",
    "  else:\n",
    "    print(f'Index not ready yet. Attempt {i}/20')\n",
    "    sleep(30)"
   ]
  }
 ],
 "metadata": {
  "application/vnd.databricks.v1+notebook": {
   "computePreferences": null,
   "dashboards": [],
   "environmentMetadata": {
    "base_environment": "",
    "environment_version": "2"
   },
   "inputWidgetPreferences": null,
   "language": "python",
   "notebookMetadata": {
    "mostRecentlyExecutedCommandWithImplicitDF": {
     "commandId": 2827531145470975,
     "dataframes": [
      "_sqldf"
     ]
    },
    "pythonIndentUnit": 2
   },
   "notebookName": "embedding_config",
   "widgets": {}
  },
  "language_info": {
   "name": "python"
  }
 },
 "nbformat": 4,
 "nbformat_minor": 0
}
