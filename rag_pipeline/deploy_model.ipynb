{
 "cells": [
  {
   "cell_type": "code",
   "execution_count": 0,
   "metadata": {
    "application/vnd.databricks.v1+cell": {
     "cellMetadata": {
      "byteLimit": 2048000,
      "rowLimit": 10000
     },
     "inputWidgets": {},
     "nuid": "f142702c-f87f-4fe5-8790-b506d29cb41a",
     "showTitle": true,
     "tableResultSettingsMap": {},
     "title": "Packages"
    }
   },
   "outputs": [],
   "source": [
    "import os\n",
    "import mlflow\n",
    "import yaml\n",
    "\n",
    "from mlflow.models.resources import DatabricksVectorSearchIndex, DatabricksServingEndpoint\n",
    "from databricks import agents"
   ]
  },
  {
   "cell_type": "code",
   "execution_count": 0,
   "metadata": {
    "application/vnd.databricks.v1+cell": {
     "cellMetadata": {
      "byteLimit": 2048000,
      "rowLimit": 10000
     },
     "inputWidgets": {},
     "nuid": "3cc07f90-1808-4401-86e4-5ab52654f877",
     "showTitle": true,
     "tableResultSettingsMap": {},
     "title": "Variables"
    }
   },
   "outputs": [],
   "source": [
    "mlflow.set_registry_uri(\"databricks-uc\")\n",
    "\n",
    "with open(\"names.yaml\", \"r\") as file:\n",
    "    names = yaml.safe_load(file)\n",
    "with open(\"rag_chain_config.yaml\", \"r\") as file:\n",
    "    config = yaml.safe_load(file)\n",
    "\n",
    "\n",
    "TABLE_NAME = names.get(\"table_name\")\n",
    "MODEL_NAME = names.get(\"model_name\")\n",
    "VECTOR_SEARCH_ENDPOINT_NAME = names.get(\"vector_search_endpoint_name\")\n",
    "VS_INDEX_FULLNAME = names.get(\"vs_index_fullname\")\n",
    "\n",
    "CHAIN_CONFIG = mlflow.models.ModelConfig(development_config='rag_chain_config.yaml')"
   ]
  },
  {
   "cell_type": "markdown",
   "metadata": {
    "application/vnd.databricks.v1+cell": {
     "cellMetadata": {},
     "inputWidgets": {},
     "nuid": "196f65c7-e0b4-4e3e-b328-b8e0c62104ad",
     "showTitle": false,
     "tableResultSettingsMap": {},
     "title": ""
    }
   },
   "source": [
    "## Testing, registering and deploying model"
   ]
  },
  {
   "cell_type": "code",
   "execution_count": 0,
   "metadata": {
    "application/vnd.databricks.v1+cell": {
     "cellMetadata": {
      "byteLimit": 2048000,
      "rowLimit": 10000
     },
     "inputWidgets": {},
     "nuid": "f6a352cf-7a96-45c2-8de7-43b753870076",
     "showTitle": true,
     "tableResultSettingsMap": {},
     "title": "Running model and saving to UC"
    }
   },
   "outputs": [],
   "source": [
    "databricks_resources = CHAIN_CONFIG.get(\"databricks_resources\")\n",
    "llm_config = CHAIN_CONFIG.get(\"llm_config\")\n",
    "retriever_config = CHAIN_CONFIG.get(\"retriever_config\")\n",
    "client = mlflow.MlflowClient()\n",
    "\n",
    "with mlflow.start_run(run_name=\"databricks_docs_chatbot\") as run:\n",
    "  logged_chain_info = mlflow.langchain.log_model(\n",
    "      lc_model=os.path.join(os.getcwd(), 'create_chain'),  # Chain code file e.g., /path/to/the/chain.py \n",
    "      model_config=\"rag_chain_config.yaml\",\n",
    "      artifact_path=\"chain\",\n",
    "      input_example=CHAIN_CONFIG.get(\"input_example\"),\n",
    "      #example_no_conversion=True,\n",
    "      resources=[\n",
    "        DatabricksVectorSearchIndex(index_name=retriever_config.get(\"vector_search_index\")),\n",
    "        DatabricksServingEndpoint(endpoint_name=databricks_resources.get(\"llm_endpoint_name\"))\n",
    "      ],\n",
    "    extra_pip_requirements=[\"databricks-connect\"]\n",
    "  )\n",
    "\n",
    "  client.log_artifact(run.info.run_id, \"names.yaml\", artifact_path=\"chain\")\n",
    "  client.log_artifact(run.info.run_id, \"rag_chain_config.yaml\", artifact_path=\"chain\")\n",
    "\n",
    "uc_registered_model_info = mlflow.register_model(model_uri=logged_chain_info.model_uri, name=MODEL_NAME)"
   ]
  },
  {
   "cell_type": "code",
   "execution_count": 0,
   "metadata": {
    "application/vnd.databricks.v1+cell": {
     "cellMetadata": {
      "byteLimit": 2048000,
      "rowLimit": 10000
     },
     "inputWidgets": {},
     "nuid": "8e74e033-8da6-4413-b334-44578ade4008",
     "showTitle": true,
     "tableResultSettingsMap": {},
     "title": "Deploying model"
    }
   },
   "outputs": [],
   "source": [
    "deploys = agents.get_deployments(MODEL_NAME)\n",
    "newest_version = max([int(version.version) for version in mlflow.MlflowClient().search_model_versions(f\"name = '{MODEL_NAME}'\")])\n",
    "\n",
    "if deploys:\n",
    "  print('Model already deployed. Checking versions...')\n",
    "  current_deployed_version = int(deploys[-1].model_version)\n",
    "\n",
    "  if current_deployed_version < newest_version:\n",
    "    print(f'New version found. Deleting deployment from model version {current_deployed_version} and deploying version {newest_version}')\n",
    "    agents.delete_deployment(MODEL_NAME, current_deployed_version)\n",
    "    deployment_info = agents.deploy(MODEL_NAME, model_version=newest_version, scale_to_zero=False)\n",
    "  else:\n",
    "    print(f'Version {current_deployed_version} is most up-to-date and is already deployed.')\n",
    "\n",
    "else:\n",
    "  print('No deployment found. Creating Model Serving endpoint')\n",
    "  deployment_info = agents.deploy(MODEL_NAME, model_version=newest_version, scale_to_zero=False)"
   ]
  },
  {
   "cell_type": "code",
   "execution_count": 0,
   "metadata": {
    "application/vnd.databricks.v1+cell": {
     "cellMetadata": {
      "byteLimit": 2048000,
      "rowLimit": 10000
     },
     "inputWidgets": {},
     "nuid": "0b8002c4-1a94-4a4e-a15f-71ef903cccff",
     "showTitle": false,
     "tableResultSettingsMap": {},
     "title": ""
    }
   },
   "outputs": [],
   "source": [
    "# Add the user-facing instructions to the Review App\n",
    "instructions_to_reviewer = f\"\"\"\n",
    "  ## Instructions for Testing the Databricks Documentation Assistant chatbot\n",
    "  Your inputs are invaluable for the development team. By providing detailed feedback and corrections, you help us fix issues and improve the overall quality of the application. We rely on your expertise to identify any gaps or areas needing enhancement.\n",
    "\"\"\"\n",
    "\n",
    "agents.set_review_instructions(MODEL_NAME, instructions_to_reviewer)\n",
    "user_list = [\"pedro.perdomo@databricks.com\", \"leonardo.farhat@databricks.com\"]\n",
    "agents.set_permissions(model_name=MODEL_NAME, users=user_list, permission_level=agents.PermissionLevel.CAN_QUERY)\n",
    "deployment = agents.get_deployments(MODEL_NAME)[-1]\n",
    "print(f'Review app url: {deployment.review_app_url}')\n",
    "print(f'Query endpoint: {deployment.query_endpoint}')\n"
   ]
  },
  {
   "cell_type": "code",
   "execution_count": 0,
   "metadata": {
    "application/vnd.databricks.v1+cell": {
     "cellMetadata": {},
     "inputWidgets": {},
     "nuid": "83f3b8fe-cb1a-469e-85ed-b65fea71981b",
     "showTitle": false,
     "tableResultSettingsMap": {},
     "title": ""
    }
   },
   "outputs": [],
   "source": [
    "# ORQUESTRACAO\n",
    "# - QUANDO ATUALIZAR? AGENDAR SEMANALMENTE\n",
    "# - QUANDO DESLIGAR/LIGAR? AGENDAR SCRIPT DIÁRIO\n",
    "\n",
    "# EXTRA\n",
    "# - APAGAR VERSOES ANTERIORES MENSALMENTE\n",
    "# - MANDAR TUDO PARA DABS"
   ]
  }
 ],
 "metadata": {
  "application/vnd.databricks.v1+notebook": {
   "computePreferences": null,
   "dashboards": [],
   "environmentMetadata": {
    "base_environment": "",
    "environment_version": "2"
   },
   "inputWidgetPreferences": null,
   "language": "python",
   "notebookMetadata": {
    "mostRecentlyExecutedCommandWithImplicitDF": {
     "commandId": 1055378587390782,
     "dataframes": [
      "_sqldf"
     ]
    },
    "pythonIndentUnit": 2
   },
   "notebookName": "deploy_model",
   "widgets": {}
  },
  "language_info": {
   "name": "python"
  }
 },
 "nbformat": 4,
 "nbformat_minor": 0
}
